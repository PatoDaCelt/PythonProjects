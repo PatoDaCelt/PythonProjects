{
 "cells": [
  {
   "cell_type": "markdown",
   "id": "e0dbdf98",
   "metadata": {},
   "source": [
    "CONVERTIR IMÁGENES A ARRAYAS NUMPY\n",
    "\n",
    "Cuando cargas una imagen con OpenCV se convierte automáticamente en un array Numpy 3D (alto, ancho, canales)"
   ]
  },
  {
   "cell_type": "code",
   "execution_count": 100,
   "id": "927c832b",
   "metadata": {},
   "outputs": [
    {
     "name": "stdout",
     "output_type": "stream",
     "text": [
      "<class 'numpy.ndarray'>\n",
      "(2475, 4400, 3)\n"
     ]
    }
   ],
   "source": [
    "import cv2\n",
    "import numpy as np\n",
    "\n",
    "img = cv2.imread(\"../sources/foto.png\") #Cargar imagen como array\n",
    "print(type(img))  # Tipo de dato: <class 'numpy.ndarray'>\n",
    "print(img.shape)  # (altura, ancho, canales)"
   ]
  },
  {
   "cell_type": "code",
   "execution_count": 94,
   "id": "3dd81104",
   "metadata": {},
   "outputs": [
    {
     "name": "stdout",
     "output_type": "stream",
     "text": [
      "Forma de la imagen: (2475, 4400, 3)\n"
     ]
    }
   ],
   "source": [
    "#Verifica que la imagen se haya cargado\n",
    "if img is None:\n",
    "    print(\"La imagen No se encpntró\")\n",
    "else:\n",
    "    print(\"Forma de la imagen:\", img.shape)"
   ]
  },
  {
   "cell_type": "code",
   "execution_count": 98,
   "id": "8865be67",
   "metadata": {},
   "outputs": [],
   "source": [
    "#Recortar una región de la imagen (slicing)\n",
    "alto, ancho = img.shape[:2]\n",
    "\n",
    "#Recortar la zona central\n",
    "recorte = img[alto//4: 3*alto//4, ancho//4: 3*ancho//4]\n",
    "\n",
    "#Muestra el recorte\n",
    "cv2.imshow(\"Recorte\", recorte)\n",
    "cv2.waitKey(0)\n",
    "cv2.destroyAllWindows()"
   ]
  },
  {
   "cell_type": "code",
   "execution_count": 101,
   "id": "280a2bca",
   "metadata": {},
   "outputs": [],
   "source": [
    "#Cpnvertir la imagen a escala de grises\n",
    "gris = cv2.cvtColor(img, cv2.COLOR_BGR2GRAY)\n",
    "\n",
    "#Muestra el la imagen en gris\n",
    "cv2.imshow(\"Gris\", gris)\n",
    "cv2.waitKey(0)\n",
    "cv2.destroyAllWindows()"
   ]
  },
  {
   "cell_type": "code",
   "execution_count": 55,
   "id": "23791f30",
   "metadata": {},
   "outputs": [
    {
     "name": "stdout",
     "output_type": "stream",
     "text": [
      "[0 1 2 3 4 5 6 7 8 9]\n"
     ]
    }
   ],
   "source": [
    "#Array de 1D con números del 0 al 9\n",
    "arr1D = np.array([0,1,2,3,4,5,6,7,8,9])\n",
    "print(arr1D)"
   ]
  },
  {
   "cell_type": "code",
   "execution_count": 56,
   "id": "c1b3005d",
   "metadata": {},
   "outputs": [
    {
     "name": "stdout",
     "output_type": "stream",
     "text": [
      "[[0 0 0]\n",
      " [0 0 0]\n",
      " [0 0 0]]\n"
     ]
    }
   ],
   "source": [
    "#Crea una matriz 3x3 de ceros\n",
    "matrix3x3 = np.zeros((3,3), dtype=int)\n",
    "print(matrix3x3)"
   ]
  },
  {
   "cell_type": "code",
   "execution_count": 57,
   "id": "68b1e564",
   "metadata": {},
   "outputs": [
    {
     "name": "stdout",
     "output_type": "stream",
     "text": [
      "[[0 0 0]\n",
      " [0 9 0]\n",
      " [0 0 0]]\n"
     ]
    }
   ],
   "source": [
    "# Cambia el valor del centro por 9\n",
    "matrix3x3[1,1] = 9\n",
    "print(matrix3x3)"
   ]
  },
  {
   "cell_type": "code",
   "execution_count": 58,
   "id": "d583a939",
   "metadata": {},
   "outputs": [
    {
     "name": "stdout",
     "output_type": "stream",
     "text": [
      "[[9 7 8 7]\n",
      " [8 6 3 0]\n",
      " [5 7 1 6]\n",
      " [9 5 4 7]]\n"
     ]
    }
   ],
   "source": [
    "#Crea una matriz 4x4 con números aleatorios entre 0 y 9\n",
    "matrix4x4 = (np.random.rand(4,4) * 10).astype(int)\n",
    "print(matrix4x4)"
   ]
  },
  {
   "cell_type": "code",
   "execution_count": 59,
   "id": "1d7ace30",
   "metadata": {},
   "outputs": [
    {
     "name": "stdout",
     "output_type": "stream",
     "text": [
      "[[ 6  8]\n",
      " [11 13]]\n"
     ]
    }
   ],
   "source": [
    "#Suma dos matrices del mismo tamaño\n",
    "matriz1 = np.array([[1,2],\n",
    "                   [3,4]])\n",
    "\n",
    "matriz2 = np.array([[5,6],\n",
    "                   [8,9]])\n",
    "\n",
    "suma = matriz1 + matriz2\n",
    "print(suma)"
   ]
  },
  {
   "cell_type": "markdown",
   "id": "14f06d0e",
   "metadata": {},
   "source": [
    " Indexing, Slicing e Iterating con arrays NumPy"
   ]
  },
  {
   "cell_type": "code",
   "execution_count": 73,
   "id": "695c8f39",
   "metadata": {},
   "outputs": [
    {
     "name": "stdout",
     "output_type": "stream",
     "text": [
      "2\n"
     ]
    }
   ],
   "source": [
    "#INDEXING  (índices)\n",
    "arr = np.array([[1,2,3], \n",
    "                [4,5,6],\n",
    "                [7,8,9]])\n",
    "print(arr[0,1])  #Devuelve el elemento en la fila 0, columna 1"
   ]
  },
  {
   "cell_type": "code",
   "execution_count": 74,
   "id": "97062b17",
   "metadata": {},
   "outputs": [
    {
     "name": "stdout",
     "output_type": "stream",
     "text": [
      "[2 5 8]\n",
      "[1 4]\n"
     ]
    }
   ],
   "source": [
    "#SLICING  (corte)\n",
    "print(arr[:, 1])   #Todas las filas, columna 1\n",
    "print(arr[0:2, 0]) #Filas 0 a 1, columna 0"
   ]
  },
  {
   "cell_type": "code",
   "execution_count": 69,
   "id": "a28f74e3",
   "metadata": {},
   "outputs": [
    {
     "name": "stdout",
     "output_type": "stream",
     "text": [
      "[1 2 3]\n",
      "[4 5 6]\n",
      "1\n",
      "2\n",
      "3\n",
      "4\n",
      "5\n",
      "6\n"
     ]
    }
   ],
   "source": [
    "#ITERATING  (recorrido)\n",
    "for row in arr:\n",
    "    print(row)\n",
    "    \n",
    "for value in np.nditer(arr):\n",
    "    print(value)"
   ]
  },
  {
   "cell_type": "code",
   "execution_count": 62,
   "id": "c34ac69b",
   "metadata": {},
   "outputs": [
    {
     "name": "stdout",
     "output_type": "stream",
     "text": [
      "La fila 2 es:  [8 6 3 0]\n"
     ]
    }
   ],
   "source": [
    "#Extrae la fila 2 de una matriz 4x4\n",
    "fila_2 = matrix4x4[1] #Index 1\n",
    "print(\"La fila 2 es: \", fila_2)"
   ]
  },
  {
   "cell_type": "code",
   "execution_count": null,
   "id": "f2c08b3d",
   "metadata": {},
   "outputs": [
    {
     "name": "stdout",
     "output_type": "stream",
     "text": [
      "[[ 1 99  3]\n",
      " [ 4 99  6]\n",
      " [ 7 99  9]]\n"
     ]
    }
   ],
   "source": [
    "#Cambiar todos los valores de la columna 0 por 9\n",
    "arr[:,1] = 99 \n",
    "print(arr)"
   ]
  },
  {
   "cell_type": "code",
   "execution_count": 64,
   "id": "379abce2",
   "metadata": {},
   "outputs": [
    {
     "name": "stdout",
     "output_type": "stream",
     "text": [
      "[6 7 8 9]\n"
     ]
    },
    {
     "data": {
      "text/plain": [
       "numpy.ndarray"
      ]
     },
     "execution_count": 64,
     "metadata": {},
     "output_type": "execute_result"
    }
   ],
   "source": [
    "array = np.array([[1, 6, 3],\n",
    "                  [7, 2, 8],\n",
    "                  [4, 9, 0]])\n",
    "\n",
    "mayores_a_5 = array[array > 5]\n",
    "print(mayores_a_5) \n",
    "type(mayores_a_5) #Regresa un array de numpy con los valores"
   ]
  },
  {
   "cell_type": "markdown",
   "id": "005b785e",
   "metadata": {},
   "source": [
    "STACKING (UNIR ARRAYS)"
   ]
  },
  {
   "cell_type": "code",
   "execution_count": null,
   "id": "bbc356da",
   "metadata": {},
   "outputs": [
    {
     "name": "stdout",
     "output_type": "stream",
     "text": [
      "[[1 2]\n",
      " [3 4]\n",
      " [5 6]\n",
      " [7 8]]\n"
     ]
    }
   ],
   "source": [
    "#Unir verticalmente (uno debajo del otro)\n",
    "a = np.array([[1,2],\n",
    "              [3,4]])\n",
    "\n",
    "b = np.array([[5,6],\n",
    "              [7,8]])\n",
    "\n",
    "v = np.vstack((a,b))\n",
    "print(v)"
   ]
  },
  {
   "cell_type": "code",
   "execution_count": 67,
   "id": "f19ae9b9",
   "metadata": {},
   "outputs": [
    {
     "name": "stdout",
     "output_type": "stream",
     "text": [
      "[[1 2 5 6]\n",
      " [3 4 7 8]]\n"
     ]
    }
   ],
   "source": [
    "#Unir horizontalmente (uno al lado del otro)\n",
    "h = np.hstack((a,b))\n",
    "print(h)"
   ]
  },
  {
   "cell_type": "markdown",
   "id": "5a23920d",
   "metadata": {},
   "source": [
    "SPLITTING (DIVIDIR ARRAYS)"
   ]
  },
  {
   "cell_type": "code",
   "execution_count": 78,
   "id": "de8ba394",
   "metadata": {},
   "outputs": [
    {
     "name": "stdout",
     "output_type": "stream",
     "text": [
      "Parte 1 [[1 2 3 4]]\n",
      "Parte 2 [[5 6 7 8]]\n"
     ]
    }
   ],
   "source": [
    "#Dividir verticalmente\n",
    "arr = np.array([[1,2,3,4], \n",
    "                [5,6,7,8]])\n",
    "v1, v2 = np.vsplit(arr, 2)\n",
    "print(\"Parte 1\", v1)\n",
    "print(\"Parte 2\", v2)"
   ]
  },
  {
   "cell_type": "code",
   "execution_count": 82,
   "id": "28cb4373",
   "metadata": {},
   "outputs": [
    {
     "name": "stdout",
     "output_type": "stream",
     "text": [
      "[[1 2]\n",
      " [5 6]]\n"
     ]
    }
   ],
   "source": [
    "h1, h2 = np.hsplit(arr, 2)\n",
    "print(h1)"
   ]
  },
  {
   "cell_type": "code",
   "execution_count": 93,
   "id": "f5ce138d",
   "metadata": {},
   "outputs": [
    {
     "name": "stdout",
     "output_type": "stream",
     "text": [
      "[[4 5]\n",
      " [3 1]]\n",
      "[[7 9]\n",
      " [1 4]]\n",
      "[[0 0]\n",
      " [8 3]]\n"
     ]
    }
   ],
   "source": [
    "#Dividir una matriz 6x2 en tres submatrices\n",
    "matriz6x2= np.array([[4,5],\n",
    "                     [3,1],\n",
    "                     [7,9],\n",
    "                     [1,4],\n",
    "                     [0,0],\n",
    "                     [8,3]])\n",
    "\n",
    "part1, part2, part3 = np.vsplit(matriz6x2, 3)\n",
    "\n",
    "print(part1)\n",
    "print(part2)\n",
    "print(part3)"
   ]
  }
 ],
 "metadata": {
  "kernelspec": {
   "display_name": "Python 3",
   "language": "python",
   "name": "python3"
  },
  "language_info": {
   "codemirror_mode": {
    "name": "ipython",
    "version": 3
   },
   "file_extension": ".py",
   "mimetype": "text/x-python",
   "name": "python",
   "nbconvert_exporter": "python",
   "pygments_lexer": "ipython3",
   "version": "3.13.4"
  }
 },
 "nbformat": 4,
 "nbformat_minor": 5
}
